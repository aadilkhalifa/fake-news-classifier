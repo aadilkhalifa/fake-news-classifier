{
 "cells": [
  {
   "cell_type": "code",
   "execution_count": 2,
   "metadata": {
    "_cell_guid": "b1076dfc-b9ad-4769-8c92-a6c4dae69d19",
    "_uuid": "8f2839f25d086af736a60e9eeb907d3b93b6e0e5"
   },
   "outputs": [
    {
     "name": "stderr",
     "output_type": "stream",
     "text": [
      "Using TensorFlow backend.\n",
      "C:\\Users\\zaina\\anaconda3\\lib\\site-packages\\tensorflow\\python\\framework\\dtypes.py:526: FutureWarning: Passing (type, 1) or '1type' as a synonym of type is deprecated; in a future version of numpy, it will be understood as (type, (1,)) / '(1,)type'.\n",
      "  _np_qint8 = np.dtype([(\"qint8\", np.int8, 1)])\n",
      "C:\\Users\\zaina\\anaconda3\\lib\\site-packages\\tensorflow\\python\\framework\\dtypes.py:527: FutureWarning: Passing (type, 1) or '1type' as a synonym of type is deprecated; in a future version of numpy, it will be understood as (type, (1,)) / '(1,)type'.\n",
      "  _np_quint8 = np.dtype([(\"quint8\", np.uint8, 1)])\n",
      "C:\\Users\\zaina\\anaconda3\\lib\\site-packages\\tensorflow\\python\\framework\\dtypes.py:528: FutureWarning: Passing (type, 1) or '1type' as a synonym of type is deprecated; in a future version of numpy, it will be understood as (type, (1,)) / '(1,)type'.\n",
      "  _np_qint16 = np.dtype([(\"qint16\", np.int16, 1)])\n",
      "C:\\Users\\zaina\\anaconda3\\lib\\site-packages\\tensorflow\\python\\framework\\dtypes.py:529: FutureWarning: Passing (type, 1) or '1type' as a synonym of type is deprecated; in a future version of numpy, it will be understood as (type, (1,)) / '(1,)type'.\n",
      "  _np_quint16 = np.dtype([(\"quint16\", np.uint16, 1)])\n",
      "C:\\Users\\zaina\\anaconda3\\lib\\site-packages\\tensorflow\\python\\framework\\dtypes.py:530: FutureWarning: Passing (type, 1) or '1type' as a synonym of type is deprecated; in a future version of numpy, it will be understood as (type, (1,)) / '(1,)type'.\n",
      "  _np_qint32 = np.dtype([(\"qint32\", np.int32, 1)])\n",
      "C:\\Users\\zaina\\anaconda3\\lib\\site-packages\\tensorflow\\python\\framework\\dtypes.py:535: FutureWarning: Passing (type, 1) or '1type' as a synonym of type is deprecated; in a future version of numpy, it will be understood as (type, (1,)) / '(1,)type'.\n",
      "  np_resource = np.dtype([(\"resource\", np.ubyte, 1)])\n"
     ]
    }
   ],
   "source": [
    "# This Python 3 environment comes with many helpful analytics libraries installed\n",
    "# It is defined by the kaggle/python Docker image: https://github.com/kaggle/docker-python\n",
    "# For example, here's several helpful packages to load\n",
    "\n",
    "import pandas as pd\n",
    "import numpy as np\n",
    "import itertools\n",
    "import seaborn as sns\n",
    "import nltk, os, re, string\n",
    "from nltk.corpus import stopwords\n",
    "import string\n",
    "from nltk.stem import WordNetLemmatizer\n",
    "from sklearn.feature_extraction.text import CountVectorizer, TfidfVectorizer, HashingVectorizer\n",
    "from sklearn.model_selection import train_test_split\n",
    "from sklearn.linear_model import PassiveAggressiveClassifier,LogisticRegression\n",
    "from sklearn.naive_bayes import MultinomialNB,GaussianNB\n",
    "from sklearn import metrics\n",
    "import matplotlib.pyplot as plt\n",
    "from nltk.stem.porter import PorterStemmer\n",
    "from wordcloud import WordCloud,STOPWORDS\n",
    "from nltk.stem import WordNetLemmatizer\n",
    "from nltk.tokenize import word_tokenize,sent_tokenize\n",
    "from bs4 import BeautifulSoup\n",
    "import re,string,unicodedata\n",
    "from keras.preprocessing import text, sequence\n",
    "from nltk.tokenize.toktok import ToktokTokenizer\n",
    "from sklearn.metrics import classification_report,confusion_matrix,accuracy_score\n",
    "from sklearn.model_selection import train_test_split\n",
    "from string import punctuation\n",
    "from nltk import pos_tag\n",
    "from nltk.corpus import wordnet\n",
    "\n",
    "import os\n",
    "for dirname, _, filenames in os.walk('/kaggle/input'):\n",
    "    for filename in filenames:\n",
    "        print(os.path.join(dirname, filename))"
   ]
  },
  {
   "cell_type": "code",
   "execution_count": 3,
   "metadata": {
    "_cell_guid": "79c7e3d0-c299-4dcb-8224-4455121ee9b0",
    "_uuid": "d629ff2d2480ee46fbb7e2d37f6b5fab8052498a"
   },
   "outputs": [
    {
     "data": {
      "text/html": [
       "<div>\n",
       "<style scoped>\n",
       "    .dataframe tbody tr th:only-of-type {\n",
       "        vertical-align: middle;\n",
       "    }\n",
       "\n",
       "    .dataframe tbody tr th {\n",
       "        vertical-align: top;\n",
       "    }\n",
       "\n",
       "    .dataframe thead th {\n",
       "        text-align: right;\n",
       "    }\n",
       "</style>\n",
       "<table border=\"1\" class=\"dataframe\">\n",
       "  <thead>\n",
       "    <tr style=\"text-align: right;\">\n",
       "      <th></th>\n",
       "      <th>Unnamed: 0</th>\n",
       "      <th>title</th>\n",
       "      <th>text</th>\n",
       "      <th>label</th>\n",
       "    </tr>\n",
       "  </thead>\n",
       "  <tbody>\n",
       "    <tr>\n",
       "      <th>36897</th>\n",
       "      <td>36897</td>\n",
       "      <td>FULL RAW VIDEO: Donald Trump Press Conference ...</td>\n",
       "      <td>Great press conference with Trump! He makes so...</td>\n",
       "      <td>FAKE</td>\n",
       "    </tr>\n",
       "    <tr>\n",
       "      <th>9750</th>\n",
       "      <td>9750</td>\n",
       "      <td>Treasury, House panel getting 'very close' on ...</td>\n",
       "      <td>WASHINGTON (Reuters) - The U.S. Treasury Depar...</td>\n",
       "      <td>TRUE</td>\n",
       "    </tr>\n",
       "    <tr>\n",
       "      <th>27432</th>\n",
       "      <td>27432</td>\n",
       "      <td>Black And Brown People Accounted For 86.5 Per...</td>\n",
       "      <td>Black and brown people accounted for 86.5 perc...</td>\n",
       "      <td>FAKE</td>\n",
       "    </tr>\n",
       "    <tr>\n",
       "      <th>40949</th>\n",
       "      <td>40949</td>\n",
       "      <td>WOW! FOX REPORTER GOES OFF On SEIU Thug For Te...</td>\n",
       "      <td>Wow! @FoxBusiness @JeffFlock just WENT OFF on ...</td>\n",
       "      <td>FAKE</td>\n",
       "    </tr>\n",
       "    <tr>\n",
       "      <th>22895</th>\n",
       "      <td>22895</td>\n",
       "      <td>Lindsey Graham: Trump Should Be Treated With ...</td>\n",
       "      <td>We re wondering if Sen. Lindsey Graham (R) is ...</td>\n",
       "      <td>FAKE</td>\n",
       "    </tr>\n",
       "  </tbody>\n",
       "</table>\n",
       "</div>"
      ],
      "text/plain": [
       "       Unnamed: 0                                              title  \\\n",
       "36897       36897  FULL RAW VIDEO: Donald Trump Press Conference ...   \n",
       "9750         9750  Treasury, House panel getting 'very close' on ...   \n",
       "27432       27432   Black And Brown People Accounted For 86.5 Per...   \n",
       "40949       40949  WOW! FOX REPORTER GOES OFF On SEIU Thug For Te...   \n",
       "22895       22895   Lindsey Graham: Trump Should Be Treated With ...   \n",
       "\n",
       "                                                    text label  \n",
       "36897  Great press conference with Trump! He makes so...  FAKE  \n",
       "9750   WASHINGTON (Reuters) - The U.S. Treasury Depar...  TRUE  \n",
       "27432  Black and brown people accounted for 86.5 perc...  FAKE  \n",
       "40949  Wow! @FoxBusiness @JeffFlock just WENT OFF on ...  FAKE  \n",
       "22895  We re wondering if Sen. Lindsey Graham (R) is ...  FAKE  "
      ]
     },
     "execution_count": 3,
     "metadata": {},
     "output_type": "execute_result"
    }
   ],
   "source": [
    "df = pd.read_csv('fake_news.csv')\n",
    "df =df.reindex(np.random.permutation(df.index))\n",
    "df.head()"
   ]
  },
  {
   "cell_type": "code",
   "execution_count": 4,
   "metadata": {},
   "outputs": [
    {
     "data": {
      "text/html": [
       "<div>\n",
       "<style scoped>\n",
       "    .dataframe tbody tr th:only-of-type {\n",
       "        vertical-align: middle;\n",
       "    }\n",
       "\n",
       "    .dataframe tbody tr th {\n",
       "        vertical-align: top;\n",
       "    }\n",
       "\n",
       "    .dataframe thead th {\n",
       "        text-align: right;\n",
       "    }\n",
       "</style>\n",
       "<table border=\"1\" class=\"dataframe\">\n",
       "  <thead>\n",
       "    <tr style=\"text-align: right;\">\n",
       "      <th></th>\n",
       "      <th>title</th>\n",
       "      <th>text</th>\n",
       "      <th>label</th>\n",
       "    </tr>\n",
       "  </thead>\n",
       "  <tbody>\n",
       "    <tr>\n",
       "      <th>36897</th>\n",
       "      <td>FULL RAW VIDEO: Donald Trump Press Conference ...</td>\n",
       "      <td>Great press conference with Trump! He makes so...</td>\n",
       "      <td>FAKE</td>\n",
       "    </tr>\n",
       "    <tr>\n",
       "      <th>9750</th>\n",
       "      <td>Treasury, House panel getting 'very close' on ...</td>\n",
       "      <td>WASHINGTON (Reuters) - The U.S. Treasury Depar...</td>\n",
       "      <td>TRUE</td>\n",
       "    </tr>\n",
       "    <tr>\n",
       "      <th>27432</th>\n",
       "      <td>Black And Brown People Accounted For 86.5 Per...</td>\n",
       "      <td>Black and brown people accounted for 86.5 perc...</td>\n",
       "      <td>FAKE</td>\n",
       "    </tr>\n",
       "    <tr>\n",
       "      <th>40949</th>\n",
       "      <td>WOW! FOX REPORTER GOES OFF On SEIU Thug For Te...</td>\n",
       "      <td>Wow! @FoxBusiness @JeffFlock just WENT OFF on ...</td>\n",
       "      <td>FAKE</td>\n",
       "    </tr>\n",
       "    <tr>\n",
       "      <th>22895</th>\n",
       "      <td>Lindsey Graham: Trump Should Be Treated With ...</td>\n",
       "      <td>We re wondering if Sen. Lindsey Graham (R) is ...</td>\n",
       "      <td>FAKE</td>\n",
       "    </tr>\n",
       "  </tbody>\n",
       "</table>\n",
       "</div>"
      ],
      "text/plain": [
       "                                                   title  \\\n",
       "36897  FULL RAW VIDEO: Donald Trump Press Conference ...   \n",
       "9750   Treasury, House panel getting 'very close' on ...   \n",
       "27432   Black And Brown People Accounted For 86.5 Per...   \n",
       "40949  WOW! FOX REPORTER GOES OFF On SEIU Thug For Te...   \n",
       "22895   Lindsey Graham: Trump Should Be Treated With ...   \n",
       "\n",
       "                                                    text label  \n",
       "36897  Great press conference with Trump! He makes so...  FAKE  \n",
       "9750   WASHINGTON (Reuters) - The U.S. Treasury Depar...  TRUE  \n",
       "27432  Black and brown people accounted for 86.5 perc...  FAKE  \n",
       "40949  Wow! @FoxBusiness @JeffFlock just WENT OFF on ...  FAKE  \n",
       "22895  We re wondering if Sen. Lindsey Graham (R) is ...  FAKE  "
      ]
     },
     "execution_count": 4,
     "metadata": {},
     "output_type": "execute_result"
    }
   ],
   "source": [
    "df.drop(['Unnamed: 0'],axis=1, inplace=True)\n",
    "df.head()"
   ]
  },
  {
   "cell_type": "code",
   "execution_count": 5,
   "metadata": {},
   "outputs": [
    {
     "data": {
      "text/plain": [
       "title    0\n",
       "text     0\n",
       "label    0\n",
       "dtype: int64"
      ]
     },
     "execution_count": 5,
     "metadata": {},
     "output_type": "execute_result"
    }
   ],
   "source": [
    "# checking if any missing values\n",
    "df.isna().sum()"
   ]
  },
  {
   "cell_type": "code",
   "execution_count": 6,
   "metadata": {},
   "outputs": [
    {
     "data": {
      "text/html": [
       "<div>\n",
       "<style scoped>\n",
       "    .dataframe tbody tr th:only-of-type {\n",
       "        vertical-align: middle;\n",
       "    }\n",
       "\n",
       "    .dataframe tbody tr th {\n",
       "        vertical-align: top;\n",
       "    }\n",
       "\n",
       "    .dataframe thead th {\n",
       "        text-align: right;\n",
       "    }\n",
       "</style>\n",
       "<table border=\"1\" class=\"dataframe\">\n",
       "  <thead>\n",
       "    <tr style=\"text-align: right;\">\n",
       "      <th></th>\n",
       "      <th>title</th>\n",
       "      <th>text</th>\n",
       "      <th>label</th>\n",
       "    </tr>\n",
       "  </thead>\n",
       "  <tbody>\n",
       "    <tr>\n",
       "      <th>36897</th>\n",
       "      <td>FULL RAW VIDEO: Donald Trump Press Conference ...</td>\n",
       "      <td>Great press conference with Trump! He makes so...</td>\n",
       "      <td>FAKE</td>\n",
       "    </tr>\n",
       "    <tr>\n",
       "      <th>9750</th>\n",
       "      <td>Treasury, House panel getting 'very close' on ...</td>\n",
       "      <td>WASHINGTON (Reuters) - The U.S. Treasury Depar...</td>\n",
       "      <td>TRUE</td>\n",
       "    </tr>\n",
       "    <tr>\n",
       "      <th>27432</th>\n",
       "      <td>Black And Brown People Accounted For 86.5 Per...</td>\n",
       "      <td>Black and brown people accounted for 86.5 perc...</td>\n",
       "      <td>FAKE</td>\n",
       "    </tr>\n",
       "    <tr>\n",
       "      <th>40949</th>\n",
       "      <td>WOW! FOX REPORTER GOES OFF On SEIU Thug For Te...</td>\n",
       "      <td>Wow! @FoxBusiness @JeffFlock just WENT OFF on ...</td>\n",
       "      <td>FAKE</td>\n",
       "    </tr>\n",
       "    <tr>\n",
       "      <th>22895</th>\n",
       "      <td>Lindsey Graham: Trump Should Be Treated With ...</td>\n",
       "      <td>We re wondering if Sen. Lindsey Graham (R) is ...</td>\n",
       "      <td>FAKE</td>\n",
       "    </tr>\n",
       "  </tbody>\n",
       "</table>\n",
       "</div>"
      ],
      "text/plain": [
       "                                                   title  \\\n",
       "36897  FULL RAW VIDEO: Donald Trump Press Conference ...   \n",
       "9750   Treasury, House panel getting 'very close' on ...   \n",
       "27432   Black And Brown People Accounted For 86.5 Per...   \n",
       "40949  WOW! FOX REPORTER GOES OFF On SEIU Thug For Te...   \n",
       "22895   Lindsey Graham: Trump Should Be Treated With ...   \n",
       "\n",
       "                                                    text label  \n",
       "36897  Great press conference with Trump! He makes so...  FAKE  \n",
       "9750   WASHINGTON (Reuters) - The U.S. Treasury Depar...  TRUE  \n",
       "27432  Black and brown people accounted for 86.5 perc...  FAKE  \n",
       "40949  Wow! @FoxBusiness @JeffFlock just WENT OFF on ...  FAKE  \n",
       "22895  We re wondering if Sen. Lindsey Graham (R) is ...  FAKE  "
      ]
     },
     "execution_count": 6,
     "metadata": {},
     "output_type": "execute_result"
    }
   ],
   "source": [
    "df.head()"
   ]
  },
  {
   "cell_type": "code",
   "execution_count": 7,
   "metadata": {},
   "outputs": [
    {
     "data": {
      "text/plain": [
       "title    0\n",
       "text     0\n",
       "label    0\n",
       "dtype: int64"
      ]
     },
     "execution_count": 7,
     "metadata": {},
     "output_type": "execute_result"
    }
   ],
   "source": [
    "df.isna().sum()"
   ]
  },
  {
   "cell_type": "markdown",
   "metadata": {},
   "source": [
    "## feature engineering"
   ]
  },
  {
   "cell_type": "code",
   "execution_count": 8,
   "metadata": {},
   "outputs": [
    {
     "data": {
      "text/plain": [
       "[(':', 13638),\n",
       " ('’', 13531),\n",
       " ('Trump', 10790),\n",
       " (',', 9779),\n",
       " ('to', 8950),\n",
       " ('To', 7564),\n",
       " ('s', 5881),\n",
       " ('”', 5470),\n",
       " ('VIDEO', 5329),\n",
       " ('[', 5239),\n",
       " (']', 5238),\n",
       " ('in', 5033),\n",
       " ('“', 5028),\n",
       " ('The', 4567),\n",
       " ('(', 4231)]"
      ]
     },
     "execution_count": 8,
     "metadata": {},
     "output_type": "execute_result"
    }
   ],
   "source": [
    "## A. TOTAL NUMBER OF WORDS USED \n",
    "df['nb_words'] = df.title.apply(lambda x: len(x.split()))\n",
    "\n",
    "## B. TOTAL NUMBER OF UNIQUE WORDS USED\n",
    "df['nb_unique_words'] = df.title.apply(lambda x: len(set(x.split())))\n",
    "\n",
    "## C. TOTAL NUMBER OF CHARACTERS USED\n",
    "df['nb_char'] = df.title.apply(lambda x: len(x))\n",
    "\n",
    "## D. TOTAL SPECIAL CHARACTERS USED\n",
    "df[\"nb_special\"] = df.apply(lambda p: sum( not q.isalpha() for q in p[\"title\"] ), axis=1)\n",
    "\n",
    "## D. TOTAL NUMBER OF PUNCTUATION USED\n",
    "def punct(text):\n",
    "    return(len([w for w in text.split() if w in list(string.punctuation)]))\n",
    "df['nb_punct'] = df.title.apply(lambda x: punct(x))\n",
    "\n",
    "## E. TOTAL NUMBER OF STOPWORDS USED\n",
    "stopword = stopwords.words('english')\n",
    "def stop(text):\n",
    "    return(len([w for w in text.split() if w in stopword]))\n",
    "df['nb_stopwords'] = df.title.apply(lambda x: stop(x))\n",
    "\n",
    "## F. TOTAL NUMBER OF TITLE WORDS USED\n",
    "def title(text):\n",
    "    return(len([w for w in text.split() if w.istitle()]))\n",
    "df['nb_title_case'] = df.title.apply(lambda x: title(x))\n",
    "\n",
    "## G. TOTAL NUMBER OF UPPERCASE WORDS USED\n",
    "def upper(text):\n",
    "    return(len([w for w in text.split() if w.isupper()]))\n",
    "df['nb_title_case'] = df.title.apply(lambda x: upper(x))\n",
    "\n",
    "## H. NUMBER OF MOST FREQUENT TERMS\n",
    "token = nltk.word_tokenize(''.join(df.title))\n",
    "frequent = nltk.FreqDist(token)\n",
    "frequent.most_common(15)\n"
   ]
  },
  {
   "cell_type": "code",
   "execution_count": 9,
   "metadata": {},
   "outputs": [
    {
     "data": {
      "text/plain": [
       "[('’', 13531),\n",
       " ('Trump', 10790),\n",
       " ('To', 7564),\n",
       " ('”', 5470),\n",
       " ('VIDEO', 5329),\n",
       " ('“', 5028),\n",
       " ('The', 4567),\n",
       " (\"'s\", 4156),\n",
       " ('For', 3966),\n",
       " ('In', 3566),\n",
       " ('Of', 3441),\n",
       " ('‘', 3438),\n",
       " ('A', 3082),\n",
       " ('Video', 2991),\n",
       " ('U.S.', 2938)]"
      ]
     },
     "execution_count": 9,
     "metadata": {},
     "output_type": "execute_result"
    }
   ],
   "source": [
    "## REMOVING PUNCTUATION AND STOPWORDS FROM MOST FREQUENT WORDS\n",
    "for sym in string.punctuation:\n",
    "    del frequent[sym]\n",
    "for word in stopword:\n",
    "    del frequent[word]\n",
    "frequent.most_common(15)"
   ]
  },
  {
   "cell_type": "code",
   "execution_count": 10,
   "metadata": {},
   "outputs": [],
   "source": [
    "## I. NUMBER OF WORDS CONTAIN OUT OF MOST COMMON 100 WORDS \n",
    "freq_words = list(dict(frequent.most_common()[:100]).keys())\n",
    "def freq(text):\n",
    "    return(len([w for w in text.split() if w in freq_words]))\n",
    "df['nb_freq_words'] = df.title.apply(lambda x: freq(x))"
   ]
  },
  {
   "cell_type": "code",
   "execution_count": 11,
   "metadata": {},
   "outputs": [
    {
     "data": {
      "text/html": [
       "<div>\n",
       "<style scoped>\n",
       "    .dataframe tbody tr th:only-of-type {\n",
       "        vertical-align: middle;\n",
       "    }\n",
       "\n",
       "    .dataframe tbody tr th {\n",
       "        vertical-align: top;\n",
       "    }\n",
       "\n",
       "    .dataframe thead th {\n",
       "        text-align: right;\n",
       "    }\n",
       "</style>\n",
       "<table border=\"1\" class=\"dataframe\">\n",
       "  <thead>\n",
       "    <tr style=\"text-align: right;\">\n",
       "      <th></th>\n",
       "      <th>title</th>\n",
       "      <th>text</th>\n",
       "      <th>label</th>\n",
       "      <th>nb_words</th>\n",
       "      <th>nb_unique_words</th>\n",
       "      <th>nb_char</th>\n",
       "      <th>nb_special</th>\n",
       "      <th>nb_punct</th>\n",
       "      <th>nb_stopwords</th>\n",
       "      <th>nb_title_case</th>\n",
       "      <th>nb_freq_words</th>\n",
       "    </tr>\n",
       "  </thead>\n",
       "  <tbody>\n",
       "    <tr>\n",
       "      <th>36897</th>\n",
       "      <td>FULL RAW VIDEO: Donald Trump Press Conference ...</td>\n",
       "      <td>Great press conference with Trump! He makes so...</td>\n",
       "      <td>FAKE</td>\n",
       "      <td>15</td>\n",
       "      <td>15</td>\n",
       "      <td>95</td>\n",
       "      <td>16</td>\n",
       "      <td>0</td>\n",
       "      <td>3</td>\n",
       "      <td>3</td>\n",
       "      <td>2</td>\n",
       "    </tr>\n",
       "    <tr>\n",
       "      <th>9750</th>\n",
       "      <td>Treasury, House panel getting 'very close' on ...</td>\n",
       "      <td>WASHINGTON (Reuters) - The U.S. Treasury Depar...</td>\n",
       "      <td>TRUE</td>\n",
       "      <td>11</td>\n",
       "      <td>11</td>\n",
       "      <td>67</td>\n",
       "      <td>13</td>\n",
       "      <td>0</td>\n",
       "      <td>1</td>\n",
       "      <td>0</td>\n",
       "      <td>2</td>\n",
       "    </tr>\n",
       "    <tr>\n",
       "      <th>27432</th>\n",
       "      <td>Black And Brown People Accounted For 86.5 Per...</td>\n",
       "      <td>Black and brown people accounted for 86.5 perc...</td>\n",
       "      <td>FAKE</td>\n",
       "      <td>12</td>\n",
       "      <td>12</td>\n",
       "      <td>76</td>\n",
       "      <td>16</td>\n",
       "      <td>0</td>\n",
       "      <td>0</td>\n",
       "      <td>1</td>\n",
       "      <td>4</td>\n",
       "    </tr>\n",
       "    <tr>\n",
       "      <th>40949</th>\n",
       "      <td>WOW! FOX REPORTER GOES OFF On SEIU Thug For Te...</td>\n",
       "      <td>Wow! @FoxBusiness @JeffFlock just WENT OFF on ...</td>\n",
       "      <td>FAKE</td>\n",
       "      <td>18</td>\n",
       "      <td>18</td>\n",
       "      <td>104</td>\n",
       "      <td>22</td>\n",
       "      <td>0</td>\n",
       "      <td>0</td>\n",
       "      <td>6</td>\n",
       "      <td>5</td>\n",
       "    </tr>\n",
       "    <tr>\n",
       "      <th>22895</th>\n",
       "      <td>Lindsey Graham: Trump Should Be Treated With ...</td>\n",
       "      <td>We re wondering if Sen. Lindsey Graham (R) is ...</td>\n",
       "      <td>FAKE</td>\n",
       "      <td>13</td>\n",
       "      <td>13</td>\n",
       "      <td>85</td>\n",
       "      <td>14</td>\n",
       "      <td>0</td>\n",
       "      <td>0</td>\n",
       "      <td>0</td>\n",
       "      <td>6</td>\n",
       "    </tr>\n",
       "  </tbody>\n",
       "</table>\n",
       "</div>"
      ],
      "text/plain": [
       "                                                   title  \\\n",
       "36897  FULL RAW VIDEO: Donald Trump Press Conference ...   \n",
       "9750   Treasury, House panel getting 'very close' on ...   \n",
       "27432   Black And Brown People Accounted For 86.5 Per...   \n",
       "40949  WOW! FOX REPORTER GOES OFF On SEIU Thug For Te...   \n",
       "22895   Lindsey Graham: Trump Should Be Treated With ...   \n",
       "\n",
       "                                                    text label  nb_words  \\\n",
       "36897  Great press conference with Trump! He makes so...  FAKE        15   \n",
       "9750   WASHINGTON (Reuters) - The U.S. Treasury Depar...  TRUE        11   \n",
       "27432  Black and brown people accounted for 86.5 perc...  FAKE        12   \n",
       "40949  Wow! @FoxBusiness @JeffFlock just WENT OFF on ...  FAKE        18   \n",
       "22895  We re wondering if Sen. Lindsey Graham (R) is ...  FAKE        13   \n",
       "\n",
       "       nb_unique_words  nb_char  nb_special  nb_punct  nb_stopwords  \\\n",
       "36897               15       95          16         0             3   \n",
       "9750                11       67          13         0             1   \n",
       "27432               12       76          16         0             0   \n",
       "40949               18      104          22         0             0   \n",
       "22895               13       85          14         0             0   \n",
       "\n",
       "       nb_title_case  nb_freq_words  \n",
       "36897              3              2  \n",
       "9750               0              2  \n",
       "27432              1              4  \n",
       "40949              6              5  \n",
       "22895              0              6  "
      ]
     },
     "execution_count": 11,
     "metadata": {},
     "output_type": "execute_result"
    }
   ],
   "source": [
    "df.head()"
   ]
  },
  {
   "cell_type": "code",
   "execution_count": 12,
   "metadata": {},
   "outputs": [],
   "source": [
    "## AVERAGE OF FREQ TERMS WITH TOTAL WORDS USED\n",
    "freq_words = list(dict(frequent.most_common()[:100]).keys())\n",
    "def freq(text):\n",
    "    return(len([w for w in text.split() if w in freq_words])/len(text.split()))\n",
    "df['avg_freq_word']= df.title.apply(lambda x: freq(x))"
   ]
  },
  {
   "cell_type": "code",
   "execution_count": 13,
   "metadata": {},
   "outputs": [
    {
     "data": {
      "text/html": [
       "<div>\n",
       "<style scoped>\n",
       "    .dataframe tbody tr th:only-of-type {\n",
       "        vertical-align: middle;\n",
       "    }\n",
       "\n",
       "    .dataframe tbody tr th {\n",
       "        vertical-align: top;\n",
       "    }\n",
       "\n",
       "    .dataframe thead th {\n",
       "        text-align: right;\n",
       "    }\n",
       "</style>\n",
       "<table border=\"1\" class=\"dataframe\">\n",
       "  <thead>\n",
       "    <tr style=\"text-align: right;\">\n",
       "      <th></th>\n",
       "      <th>title</th>\n",
       "      <th>text</th>\n",
       "      <th>label</th>\n",
       "      <th>nb_words</th>\n",
       "      <th>nb_unique_words</th>\n",
       "      <th>nb_char</th>\n",
       "      <th>nb_special</th>\n",
       "      <th>nb_punct</th>\n",
       "      <th>nb_stopwords</th>\n",
       "      <th>nb_title_case</th>\n",
       "      <th>nb_freq_words</th>\n",
       "      <th>avg_freq_word</th>\n",
       "    </tr>\n",
       "  </thead>\n",
       "  <tbody>\n",
       "    <tr>\n",
       "      <th>36897</th>\n",
       "      <td>FULL RAW VIDEO: Donald Trump Press Conference ...</td>\n",
       "      <td>Great press conference with Trump! He makes so...</td>\n",
       "      <td>FAKE</td>\n",
       "      <td>15</td>\n",
       "      <td>15</td>\n",
       "      <td>95</td>\n",
       "      <td>16</td>\n",
       "      <td>0</td>\n",
       "      <td>3</td>\n",
       "      <td>3</td>\n",
       "      <td>2</td>\n",
       "      <td>0.133333</td>\n",
       "    </tr>\n",
       "    <tr>\n",
       "      <th>9750</th>\n",
       "      <td>Treasury, House panel getting 'very close' on ...</td>\n",
       "      <td>WASHINGTON (Reuters) - The U.S. Treasury Depar...</td>\n",
       "      <td>TRUE</td>\n",
       "      <td>11</td>\n",
       "      <td>11</td>\n",
       "      <td>67</td>\n",
       "      <td>13</td>\n",
       "      <td>0</td>\n",
       "      <td>1</td>\n",
       "      <td>0</td>\n",
       "      <td>2</td>\n",
       "      <td>0.181818</td>\n",
       "    </tr>\n",
       "    <tr>\n",
       "      <th>27432</th>\n",
       "      <td>Black And Brown People Accounted For 86.5 Per...</td>\n",
       "      <td>Black and brown people accounted for 86.5 perc...</td>\n",
       "      <td>FAKE</td>\n",
       "      <td>12</td>\n",
       "      <td>12</td>\n",
       "      <td>76</td>\n",
       "      <td>16</td>\n",
       "      <td>0</td>\n",
       "      <td>0</td>\n",
       "      <td>1</td>\n",
       "      <td>4</td>\n",
       "      <td>0.333333</td>\n",
       "    </tr>\n",
       "    <tr>\n",
       "      <th>40949</th>\n",
       "      <td>WOW! FOX REPORTER GOES OFF On SEIU Thug For Te...</td>\n",
       "      <td>Wow! @FoxBusiness @JeffFlock just WENT OFF on ...</td>\n",
       "      <td>FAKE</td>\n",
       "      <td>18</td>\n",
       "      <td>18</td>\n",
       "      <td>104</td>\n",
       "      <td>22</td>\n",
       "      <td>0</td>\n",
       "      <td>0</td>\n",
       "      <td>6</td>\n",
       "      <td>5</td>\n",
       "      <td>0.277778</td>\n",
       "    </tr>\n",
       "    <tr>\n",
       "      <th>22895</th>\n",
       "      <td>Lindsey Graham: Trump Should Be Treated With ...</td>\n",
       "      <td>We re wondering if Sen. Lindsey Graham (R) is ...</td>\n",
       "      <td>FAKE</td>\n",
       "      <td>13</td>\n",
       "      <td>13</td>\n",
       "      <td>85</td>\n",
       "      <td>14</td>\n",
       "      <td>0</td>\n",
       "      <td>0</td>\n",
       "      <td>0</td>\n",
       "      <td>6</td>\n",
       "      <td>0.461538</td>\n",
       "    </tr>\n",
       "  </tbody>\n",
       "</table>\n",
       "</div>"
      ],
      "text/plain": [
       "                                                   title  \\\n",
       "36897  FULL RAW VIDEO: Donald Trump Press Conference ...   \n",
       "9750   Treasury, House panel getting 'very close' on ...   \n",
       "27432   Black And Brown People Accounted For 86.5 Per...   \n",
       "40949  WOW! FOX REPORTER GOES OFF On SEIU Thug For Te...   \n",
       "22895   Lindsey Graham: Trump Should Be Treated With ...   \n",
       "\n",
       "                                                    text label  nb_words  \\\n",
       "36897  Great press conference with Trump! He makes so...  FAKE        15   \n",
       "9750   WASHINGTON (Reuters) - The U.S. Treasury Depar...  TRUE        11   \n",
       "27432  Black and brown people accounted for 86.5 perc...  FAKE        12   \n",
       "40949  Wow! @FoxBusiness @JeffFlock just WENT OFF on ...  FAKE        18   \n",
       "22895  We re wondering if Sen. Lindsey Graham (R) is ...  FAKE        13   \n",
       "\n",
       "       nb_unique_words  nb_char  nb_special  nb_punct  nb_stopwords  \\\n",
       "36897               15       95          16         0             3   \n",
       "9750                11       67          13         0             1   \n",
       "27432               12       76          16         0             0   \n",
       "40949               18      104          22         0             0   \n",
       "22895               13       85          14         0             0   \n",
       "\n",
       "       nb_title_case  nb_freq_words  avg_freq_word  \n",
       "36897              3              2       0.133333  \n",
       "9750               0              2       0.181818  \n",
       "27432              1              4       0.333333  \n",
       "40949              6              5       0.277778  \n",
       "22895              0              6       0.461538  "
      ]
     },
     "execution_count": 13,
     "metadata": {},
     "output_type": "execute_result"
    }
   ],
   "source": [
    "df.head()"
   ]
  },
  {
   "cell_type": "markdown",
   "metadata": {},
   "source": [
    "## exploratory Data Analysis"
   ]
  },
  {
   "cell_type": "code",
   "execution_count": 14,
   "metadata": {},
   "outputs": [
    {
     "name": "stderr",
     "output_type": "stream",
     "text": [
      "C:\\Users\\zaina\\anaconda3\\lib\\site-packages\\seaborn\\_decorators.py:43: FutureWarning: Pass the following variable as a keyword arg: x. From version 0.12, the only valid positional argument will be `data`, and passing other arguments without an explicit keyword will result in an error or misinterpretation.\n",
      "  FutureWarning\n"
     ]
    },
    {
     "data": {
      "text/plain": [
       "<AxesSubplot:xlabel='label', ylabel='count'>"
      ]
     },
     "execution_count": 14,
     "metadata": {},
     "output_type": "execute_result"
    },
    {
     "data": {
      "image/png": "[encoded data removed]",
      "text/plain": [
       "<Figure size 432x288 with 1 Axes>"
      ]
     },
     "metadata": {},
     "output_type": "display_data"
    }
   ],
   "source": [
    "sns.set_style(\"dark\")\n",
    "sns.countplot(df.label)"
   ]
  },
  {
   "cell_type": "code",
   "execution_count": 15,
   "metadata": {},
   "outputs": [],
   "source": [
    "import matplotlib.pyplot as plt\n",
    "import seaborn as sns\n",
    "\n",
    "%matplotlib inline"
   ]
  },
  {
   "cell_type": "code",
   "execution_count": 16,
   "metadata": {},
   "outputs": [],
   "source": [
    "df_fake = df[df['label']=='FAKE']\n",
    "df_true = df[df['label']=='TRUE']"
   ]
  },
  {
   "cell_type": "code",
   "execution_count": 17,
   "metadata": {},
   "outputs": [
    {
     "data": {
      "text/plain": [
       "<AxesSubplot:ylabel='Frequency'>"
      ]
     },
     "execution_count": 17,
     "metadata": {},
     "output_type": "execute_result"
    },
    {
     "data": {
      "image/png": "[encoded data removed]",
      "text/plain": [
       "<Figure size 432x288 with 1 Axes>"
      ]
     },
     "metadata": {
      "needs_background": "light"
     },
     "output_type": "display_data"
    }
   ],
   "source": [
    "# plotting frequency of number of characters for fake data\n",
    "df_fake['nb_char'].plot(bins=50, kind='hist')"
   ]
  },
  {
   "cell_type": "code",
   "execution_count": 18,
   "metadata": {},
   "outputs": [
    {
     "data": {
      "text/plain": [
       "count    23481.000000\n",
       "mean        94.198032\n",
       "std         27.184433\n",
       "min          8.000000\n",
       "25%         77.000000\n",
       "50%         90.000000\n",
       "75%        105.000000\n",
       "max        286.000000\n",
       "Name: nb_char, dtype: float64"
      ]
     },
     "execution_count": 18,
     "metadata": {},
     "output_type": "execute_result"
    }
   ],
   "source": [
    "df_fake['nb_char'].describe()"
   ]
  },
  {
   "cell_type": "code",
   "execution_count": 19,
   "metadata": {},
   "outputs": [
    {
     "data": {
      "text/plain": [
       "<AxesSubplot:ylabel='Frequency'>"
      ]
     },
     "execution_count": 19,
     "metadata": {},
     "output_type": "execute_result"
    },
    {
     "data": {
      "image/png": "[encoded data removed]",
      "text/plain": [
       "<Figure size 432x288 with 1 Axes>"
      ]
     },
     "metadata": {
      "needs_background": "light"
     },
     "output_type": "display_data"
    }
   ],
   "source": [
    "# plotting frequency of number of characters for true data\n",
    "df_true['nb_char'].plot(bins=50, kind='hist')"
   ]
  },
  {
   "cell_type": "code",
   "execution_count": 20,
   "metadata": {},
   "outputs": [
    {
     "data": {
      "text/plain": [
       "count    21417.000000\n",
       "mean        64.667881\n",
       "std          9.168999\n",
       "min         26.000000\n",
       "25%         59.000000\n",
       "50%         64.000000\n",
       "75%         70.000000\n",
       "max        133.000000\n",
       "Name: nb_char, dtype: float64"
      ]
     },
     "execution_count": 20,
     "metadata": {},
     "output_type": "execute_result"
    }
   ],
   "source": [
    "df_true['nb_char'].describe()"
   ]
  },
  {
   "cell_type": "markdown",
   "metadata": {},
   "source": [
    "As we can see, from above analysis average number of characters in a sentence in real news is around 64 while in case of fake news it is around 94 which is but obvious because fake news generally use superflous language with more characters to grab the attention"
   ]
  },
  {
   "cell_type": "code",
   "execution_count": 21,
   "metadata": {},
   "outputs": [
    {
     "data": {
      "text/plain": [
       "<AxesSubplot:ylabel='Frequency'>"
      ]
     },
     "execution_count": 21,
     "metadata": {},
     "output_type": "execute_result"
    },
    {
     "data": {
      "image/png": "[encoded data removed]",
      "text/plain": [
       "<Figure size 432x288 with 1 Axes>"
      ]
     },
     "metadata": {
      "needs_background": "light"
     },
     "output_type": "display_data"
    }
   ],
   "source": [
    "df_fake['nb_unique_words'].plot(bins=10, kind='hist')"
   ]
  },
  {
   "cell_type": "code",
   "execution_count": 22,
   "metadata": {},
   "outputs": [
    {
     "data": {
      "text/plain": [
       "count    23481.000000\n",
       "mean        14.490609\n",
       "std          4.129960\n",
       "min          1.000000\n",
       "25%         12.000000\n",
       "50%         14.000000\n",
       "75%         16.000000\n",
       "max         39.000000\n",
       "Name: nb_unique_words, dtype: float64"
      ]
     },
     "execution_count": 22,
     "metadata": {},
     "output_type": "execute_result"
    }
   ],
   "source": [
    "df_fake['nb_unique_words'].describe()"
   ]
  },
  {
   "cell_type": "code",
   "execution_count": 23,
   "metadata": {},
   "outputs": [
    {
     "data": {
      "text/plain": [
       "<AxesSubplot:ylabel='Frequency'>"
      ]
     },
     "execution_count": 23,
     "metadata": {},
     "output_type": "execute_result"
    },
    {
     "data": {
      "image/png": "[encoded data removed]",
      "text/plain": [
       "<Figure size 432x288 with 1 Axes>"
      ]
     },
     "metadata": {
      "needs_background": "light"
     },
     "output_type": "display_data"
    }
   ],
   "source": [
    "df_true['nb_unique_words'].plot(bins=10, kind='hist')"
   ]
  },
  {
   "cell_type": "code",
   "execution_count": 24,
   "metadata": {},
   "outputs": [
    {
     "data": {
      "text/plain": [
       "count    21417.000000\n",
       "mean         9.876827\n",
       "std          1.656130\n",
       "min          4.000000\n",
       "25%          9.000000\n",
       "50%         10.000000\n",
       "75%         11.000000\n",
       "max         20.000000\n",
       "Name: nb_unique_words, dtype: float64"
      ]
     },
     "execution_count": 24,
     "metadata": {},
     "output_type": "execute_result"
    }
   ],
   "source": [
    "df_true['nb_unique_words'].describe()"
   ]
  },
  {
   "cell_type": "markdown",
   "metadata": {},
   "source": [
    "### Observation:\n",
    "As we can see average number of unique words in real headlines is relatively less in comparison to fake news"
   ]
  },
  {
   "cell_type": "code",
   "execution_count": 25,
   "metadata": {},
   "outputs": [
    {
     "name": "stderr",
     "output_type": "stream",
     "text": [
      "C:\\Users\\zaina\\anaconda3\\lib\\site-packages\\seaborn\\distributions.py:2619: FutureWarning: `distplot` is a deprecated function and will be removed in a future version. Please adapt your code to use either `displot` (a figure-level function with similar flexibility) or `histplot` (an axes-level function for histograms).\n",
      "  warnings.warn(msg, FutureWarning)\n"
     ]
    },
    {
     "data": {
      "image/png": "[encoded data removed]",
      "text/plain": [
       "<Figure size 432x288 with 1 Axes>"
      ]
     },
     "metadata": {
      "needs_background": "light"
     },
     "output_type": "display_data"
    }
   ],
   "source": [
    "# distribution of words in fake Headline\n",
    "sns.distplot(df_fake['nb_words'])\n",
    "plt.title(\"Distribution of Words in Fake news headlines\")\n",
    "plt.show()"
   ]
  },
  {
   "cell_type": "code",
   "execution_count": 26,
   "metadata": {},
   "outputs": [
    {
     "name": "stderr",
     "output_type": "stream",
     "text": [
      "C:\\Users\\zaina\\anaconda3\\lib\\site-packages\\seaborn\\distributions.py:2619: FutureWarning: `distplot` is a deprecated function and will be removed in a future version. Please adapt your code to use either `displot` (a figure-level function with similar flexibility) or `histplot` (an axes-level function for histograms).\n",
      "  warnings.warn(msg, FutureWarning)\n"
     ]
    },
    {
     "data": {
      "image/png": "[encoded data removed]",
      "text/plain": [
       "<Figure size 432x288 with 1 Axes>"
      ]
     },
     "metadata": {
      "needs_background": "light"
     },
     "output_type": "display_data"
    }
   ],
   "source": [
    "# distribution of words in Real news Headline\n",
    "sns.distplot(df_true['nb_words'])\n",
    "plt.title(\"Distribution of Words in True news headlines\")\n",
    "plt.show()"
   ]
  },
  {
   "cell_type": "code",
   "execution_count": 27,
   "metadata": {},
   "outputs": [
    {
     "name": "stderr",
     "output_type": "stream",
     "text": [
      "C:\\Users\\zaina\\anaconda3\\lib\\site-packages\\seaborn\\distributions.py:2619: FutureWarning: `distplot` is a deprecated function and will be removed in a future version. Please adapt your code to use either `displot` (a figure-level function with similar flexibility) or `histplot` (an axes-level function for histograms).\n",
      "  warnings.warn(msg, FutureWarning)\n"
     ]
    },
    {
     "data": {
      "image/png": "[encoded data removed]",
      "text/plain": [
       "<Figure size 432x288 with 1 Axes>"
      ]
     },
     "metadata": {
      "needs_background": "light"
     },
     "output_type": "display_data"
    }
   ],
   "source": [
    "# distribution of  special characters in Real news Headline\n",
    "sns.distplot(df_true['nb_special'])\n",
    "plt.title(\"Distribution of Special chars in True news headlines\")\n",
    "plt.show()"
   ]
  },
  {
   "cell_type": "code",
   "execution_count": 28,
   "metadata": {},
   "outputs": [
    {
     "name": "stderr",
     "output_type": "stream",
     "text": [
      "C:\\Users\\zaina\\anaconda3\\lib\\site-packages\\seaborn\\distributions.py:2619: FutureWarning: `distplot` is a deprecated function and will be removed in a future version. Please adapt your code to use either `displot` (a figure-level function with similar flexibility) or `histplot` (an axes-level function for histograms).\n",
      "  warnings.warn(msg, FutureWarning)\n"
     ]
    },
    {
     "data": {
      "image/png": "[encoded data removed]",
      "text/plain": [
       "<Figure size 432x288 with 1 Axes>"
      ]
     },
     "metadata": {
      "needs_background": "light"
     },
     "output_type": "display_data"
    }
   ],
   "source": [
    "# distribution of  special characters in Fake news Headline\n",
    "sns.distplot(df_fake['nb_special'])\n",
    "plt.title(\"Distribution of Special chars in Fake news headlines\")\n",
    "plt.show()"
   ]
  },
  {
   "cell_type": "markdown",
   "metadata": {},
   "source": [
    "### Observation:\n",
    "As we can see there are more special characters in fake news than real news because real news is generally to the point no superflous words or less use of special characters "
   ]
  },
  {
   "cell_type": "code",
   "execution_count": 29,
   "metadata": {},
   "outputs": [],
   "source": [
    "from nltk.corpus import stopwords\n",
    "stop = set(stopwords.words('english'))\n",
    "punctuation = list(string.punctuation)\n",
    "stop.update(punctuation)\n",
    "\n",
    "# Removing stop words which are unneccesary from headline news\n",
    "def remove_stopwords(text):\n",
    "    final_text = []\n",
    "    for i in text.split():\n",
    "        if i.strip().lower() not in stop:\n",
    "            final_text.append(i.strip())\n",
    "    return \" \".join(final_text)\n",
    "\n",
    "df['title']=df['title'].apply(remove_stopwords)"
   ]
  },
  {
   "cell_type": "markdown",
   "metadata": {},
   "source": [
    "## Plotting Wordcloud"
   ]
  },
  {
   "cell_type": "code",
   "execution_count": null,
   "metadata": {},
   "outputs": [],
   "source": [
    "plt.figure(figsize = (20,20)) # Text that is Fake News Headlines\n",
    "wc = WordCloud(max_words = 1000 , width = 1600 , height = 800).generate(\" \".join(df_fake.title))\n",
    "plt.imshow(wc , interpolation = 'bilinear')"
   ]
  },
  {
   "cell_type": "code",
   "execution_count": null,
   "metadata": {},
   "outputs": [],
   "source": [
    "plt.figure(figsize = (20,20)) # Text that is True News Headlines\n",
    "wc = WordCloud(max_words = 1000 , width = 1600 , height = 800).generate(\" \".join(df_true.title))\n",
    "plt.imshow(wc , interpolation = 'bilinear')"
   ]
  },
  {
   "cell_type": "code",
   "execution_count": null,
   "metadata": {},
   "outputs": [],
   "source": []
  }
 ],
 "metadata": {
  "kernelspec": {
   "display_name": "Python 3",
   "language": "python",
   "name": "python3"
  },
  "language_info": {
   "codemirror_mode": {
    "name": "ipython",
    "version": 3
   },
   "file_extension": ".py",
   "mimetype": "text/x-python",
   "name": "python",
   "nbconvert_exporter": "python",
   "pygments_lexer": "ipython3",
   "version": "3.7.7"
  }
 },
 "nbformat": 4,
 "nbformat_minor": 4
}
